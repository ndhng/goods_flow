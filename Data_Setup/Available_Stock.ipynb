{
 "cells": [
  {
   "cell_type": "code",
   "id": "initial_id",
   "metadata": {
    "collapsed": true,
    "ExecuteTime": {
     "end_time": "2025-03-16T11:13:46.580483Z",
     "start_time": "2025-03-16T11:13:46.441560Z"
    }
   },
   "source": [
    "import pandas as pd\n",
    "from datetime import date\n",
    "from random import randint\n",
    "\n",
    "from init import item_codes, warehouse_codes, start_date"
   ],
   "outputs": [],
   "execution_count": 1
  },
  {
   "metadata": {
    "ExecuteTime": {
     "end_time": "2025-03-16T11:13:46.585238Z",
     "start_time": "2025-03-16T11:13:46.583424Z"
    }
   },
   "cell_type": "code",
   "source": [
    "number_of_days_history = 10\n",
    "\n",
    "dates = []\n",
    "for i in range(number_of_days_history):\n",
    "    dates.append(start_date - pd.DateOffset(days=i+1))\n",
    "\n",
    "# print(item_codes)\n",
    "# print(warehouse_codes)\n",
    "# print(dates)"
   ],
   "id": "c51df22bbf1610af",
   "outputs": [],
   "execution_count": 2
  },
  {
   "metadata": {
    "ExecuteTime": {
     "end_time": "2025-03-16T11:32:37.425790Z",
     "start_time": "2025-03-16T11:32:37.410635Z"
    }
   },
   "cell_type": "code",
   "source": [
    "dataset = []\n",
    "\n",
    "for i in range(len(dates)):\n",
    "    for j in range(len(warehouse_codes)):\n",
    "        for k in range(len(item_codes)):\n",
    "            dataset.append([dates[i],warehouse_codes[j],item_codes[k],randint(1,100)*100])\n",
    "\n",
    "df = pd.DataFrame(dataset,columns=[\"Date\",\"Warehouse_Code\",\"Item_Code\",\"Stock_Amount\"])\n",
    "df[\"Date\"] = pd.to_datetime(df[\"Date\"])\n",
    "df"
   ],
   "id": "a6ac9947e390e7ff",
   "outputs": [
    {
     "data": {
      "text/plain": [
       "          Date Warehouse_Code Item_Code  Stock_Amount\n",
       "0   2024-12-31          WH001   Item001          1700\n",
       "1   2024-12-31          WH001   Item002          9200\n",
       "2   2024-12-31          WH001   Item003           700\n",
       "3   2024-12-31          WH001   Item004          3800\n",
       "4   2024-12-31          WH001   Item005          1200\n",
       "..         ...            ...       ...           ...\n",
       "415 2024-12-22          WH003   Item010          3400\n",
       "416 2024-12-22          WH003   Item011          6600\n",
       "417 2024-12-22          WH003   Item012          8900\n",
       "418 2024-12-22          WH003   Item013          6800\n",
       "419 2024-12-22          WH003   Item014          3300\n",
       "\n",
       "[420 rows x 4 columns]"
      ],
      "text/html": [
       "<div>\n",
       "<style scoped>\n",
       "    .dataframe tbody tr th:only-of-type {\n",
       "        vertical-align: middle;\n",
       "    }\n",
       "\n",
       "    .dataframe tbody tr th {\n",
       "        vertical-align: top;\n",
       "    }\n",
       "\n",
       "    .dataframe thead th {\n",
       "        text-align: right;\n",
       "    }\n",
       "</style>\n",
       "<table border=\"1\" class=\"dataframe\">\n",
       "  <thead>\n",
       "    <tr style=\"text-align: right;\">\n",
       "      <th></th>\n",
       "      <th>Date</th>\n",
       "      <th>Warehouse_Code</th>\n",
       "      <th>Item_Code</th>\n",
       "      <th>Stock_Amount</th>\n",
       "    </tr>\n",
       "  </thead>\n",
       "  <tbody>\n",
       "    <tr>\n",
       "      <th>0</th>\n",
       "      <td>2024-12-31</td>\n",
       "      <td>WH001</td>\n",
       "      <td>Item001</td>\n",
       "      <td>1700</td>\n",
       "    </tr>\n",
       "    <tr>\n",
       "      <th>1</th>\n",
       "      <td>2024-12-31</td>\n",
       "      <td>WH001</td>\n",
       "      <td>Item002</td>\n",
       "      <td>9200</td>\n",
       "    </tr>\n",
       "    <tr>\n",
       "      <th>2</th>\n",
       "      <td>2024-12-31</td>\n",
       "      <td>WH001</td>\n",
       "      <td>Item003</td>\n",
       "      <td>700</td>\n",
       "    </tr>\n",
       "    <tr>\n",
       "      <th>3</th>\n",
       "      <td>2024-12-31</td>\n",
       "      <td>WH001</td>\n",
       "      <td>Item004</td>\n",
       "      <td>3800</td>\n",
       "    </tr>\n",
       "    <tr>\n",
       "      <th>4</th>\n",
       "      <td>2024-12-31</td>\n",
       "      <td>WH001</td>\n",
       "      <td>Item005</td>\n",
       "      <td>1200</td>\n",
       "    </tr>\n",
       "    <tr>\n",
       "      <th>...</th>\n",
       "      <td>...</td>\n",
       "      <td>...</td>\n",
       "      <td>...</td>\n",
       "      <td>...</td>\n",
       "    </tr>\n",
       "    <tr>\n",
       "      <th>415</th>\n",
       "      <td>2024-12-22</td>\n",
       "      <td>WH003</td>\n",
       "      <td>Item010</td>\n",
       "      <td>3400</td>\n",
       "    </tr>\n",
       "    <tr>\n",
       "      <th>416</th>\n",
       "      <td>2024-12-22</td>\n",
       "      <td>WH003</td>\n",
       "      <td>Item011</td>\n",
       "      <td>6600</td>\n",
       "    </tr>\n",
       "    <tr>\n",
       "      <th>417</th>\n",
       "      <td>2024-12-22</td>\n",
       "      <td>WH003</td>\n",
       "      <td>Item012</td>\n",
       "      <td>8900</td>\n",
       "    </tr>\n",
       "    <tr>\n",
       "      <th>418</th>\n",
       "      <td>2024-12-22</td>\n",
       "      <td>WH003</td>\n",
       "      <td>Item013</td>\n",
       "      <td>6800</td>\n",
       "    </tr>\n",
       "    <tr>\n",
       "      <th>419</th>\n",
       "      <td>2024-12-22</td>\n",
       "      <td>WH003</td>\n",
       "      <td>Item014</td>\n",
       "      <td>3300</td>\n",
       "    </tr>\n",
       "  </tbody>\n",
       "</table>\n",
       "<p>420 rows × 4 columns</p>\n",
       "</div>"
      ]
     },
     "execution_count": 5,
     "metadata": {},
     "output_type": "execute_result"
    }
   ],
   "execution_count": 5
  },
  {
   "metadata": {
    "ExecuteTime": {
     "end_time": "2025-03-16T11:13:46.649838Z",
     "start_time": "2025-03-16T11:13:46.646838Z"
    }
   },
   "cell_type": "code",
   "source": [
    "import os\n",
    "\n",
    "# Ensure the target directory exists before saving the file\n",
    "os.makedirs(\"../Datasets\", exist_ok=True)\n",
    "\n",
    "# Save DataFrame as CSV into existing directory\n",
    "df.to_csv(\"../Datasets/Available_Stock.csv\", index=False)\n"
   ],
   "id": "f8d4a36102515e15",
   "outputs": [],
   "execution_count": 4
  }
 ],
 "metadata": {
  "kernelspec": {
   "display_name": "Python 3",
   "language": "python",
   "name": "python3"
  },
  "language_info": {
   "codemirror_mode": {
    "name": "ipython",
    "version": 2
   },
   "file_extension": ".py",
   "mimetype": "text/x-python",
   "name": "python",
   "nbconvert_exporter": "python",
   "pygments_lexer": "ipython2",
   "version": "2.7.6"
  }
 },
 "nbformat": 4,
 "nbformat_minor": 5
}
