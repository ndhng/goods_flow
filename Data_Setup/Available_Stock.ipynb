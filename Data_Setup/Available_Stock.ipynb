{
 "cells": [
  {
   "cell_type": "code",
   "id": "initial_id",
   "metadata": {
    "collapsed": true,
    "ExecuteTime": {
     "end_time": "2025-03-16T13:02:48.473380Z",
     "start_time": "2025-03-16T13:02:48.273777Z"
    }
   },
   "source": [
    "import pandas as pd\n",
    "from datetime import date\n",
    "from random import randint\n",
    "\n",
    "from init import item_codes, warehouse_codes, start_date"
   ],
   "outputs": [],
   "execution_count": 1
  },
  {
   "metadata": {
    "ExecuteTime": {
     "end_time": "2025-03-16T13:02:48.477572Z",
     "start_time": "2025-03-16T13:02:48.475647Z"
    }
   },
   "cell_type": "code",
   "source": [
    "number_of_days_history = 10\n",
    "\n",
    "dates = []\n",
    "for i in range(number_of_days_history):\n",
    "    dates.append(start_date - pd.DateOffset(days=i+1))\n",
    "\n",
    "# print(item_codes)\n",
    "# print(warehouse_codes)\n",
    "# print(dates)"
   ],
   "id": "c51df22bbf1610af",
   "outputs": [],
   "execution_count": 2
  },
  {
   "metadata": {
    "ExecuteTime": {
     "end_time": "2025-03-16T13:02:48.547003Z",
     "start_time": "2025-03-16T13:02:48.539558Z"
    }
   },
   "cell_type": "code",
   "source": [
    "dataset = []\n",
    "\n",
    "for i in range(len(dates)):\n",
    "    for j in range(len(warehouse_codes)):\n",
    "        for k in range(len(item_codes)):\n",
    "            dataset.append([dates[i],warehouse_codes[j],item_codes[k],randint(1,100)*100])\n",
    "\n",
    "df = pd.DataFrame(dataset,columns=[\"Date\",\"Warehouse_Code\",\"Item_Code\",\"Stock_Amount\"])\n",
    "df[\"Date\"] = pd.to_datetime(df[\"Date\"])\n",
    "df"
   ],
   "id": "a6ac9947e390e7ff",
   "outputs": [
    {
     "data": {
      "text/plain": [
       "          Date Warehouse_Code Item_Code  Stock_Amount\n",
       "0   2024-12-31          WH001   Item001          5800\n",
       "1   2024-12-31          WH001   Item002          2900\n",
       "2   2024-12-31          WH001   Item003          2400\n",
       "3   2024-12-31          WH001   Item004          4400\n",
       "4   2024-12-31          WH001   Item005          1600\n",
       "..         ...            ...       ...           ...\n",
       "595 2024-12-22          WH004   Item011          6300\n",
       "596 2024-12-22          WH004   Item012          9300\n",
       "597 2024-12-22          WH004   Item013          4600\n",
       "598 2024-12-22          WH004   Item014          4900\n",
       "599 2024-12-22          WH004   Item015          4700\n",
       "\n",
       "[600 rows x 4 columns]"
      ],
      "text/html": [
       "<div>\n",
       "<style scoped>\n",
       "    .dataframe tbody tr th:only-of-type {\n",
       "        vertical-align: middle;\n",
       "    }\n",
       "\n",
       "    .dataframe tbody tr th {\n",
       "        vertical-align: top;\n",
       "    }\n",
       "\n",
       "    .dataframe thead th {\n",
       "        text-align: right;\n",
       "    }\n",
       "</style>\n",
       "<table border=\"1\" class=\"dataframe\">\n",
       "  <thead>\n",
       "    <tr style=\"text-align: right;\">\n",
       "      <th></th>\n",
       "      <th>Date</th>\n",
       "      <th>Warehouse_Code</th>\n",
       "      <th>Item_Code</th>\n",
       "      <th>Stock_Amount</th>\n",
       "    </tr>\n",
       "  </thead>\n",
       "  <tbody>\n",
       "    <tr>\n",
       "      <th>0</th>\n",
       "      <td>2024-12-31</td>\n",
       "      <td>WH001</td>\n",
       "      <td>Item001</td>\n",
       "      <td>5800</td>\n",
       "    </tr>\n",
       "    <tr>\n",
       "      <th>1</th>\n",
       "      <td>2024-12-31</td>\n",
       "      <td>WH001</td>\n",
       "      <td>Item002</td>\n",
       "      <td>2900</td>\n",
       "    </tr>\n",
       "    <tr>\n",
       "      <th>2</th>\n",
       "      <td>2024-12-31</td>\n",
       "      <td>WH001</td>\n",
       "      <td>Item003</td>\n",
       "      <td>2400</td>\n",
       "    </tr>\n",
       "    <tr>\n",
       "      <th>3</th>\n",
       "      <td>2024-12-31</td>\n",
       "      <td>WH001</td>\n",
       "      <td>Item004</td>\n",
       "      <td>4400</td>\n",
       "    </tr>\n",
       "    <tr>\n",
       "      <th>4</th>\n",
       "      <td>2024-12-31</td>\n",
       "      <td>WH001</td>\n",
       "      <td>Item005</td>\n",
       "      <td>1600</td>\n",
       "    </tr>\n",
       "    <tr>\n",
       "      <th>...</th>\n",
       "      <td>...</td>\n",
       "      <td>...</td>\n",
       "      <td>...</td>\n",
       "      <td>...</td>\n",
       "    </tr>\n",
       "    <tr>\n",
       "      <th>595</th>\n",
       "      <td>2024-12-22</td>\n",
       "      <td>WH004</td>\n",
       "      <td>Item011</td>\n",
       "      <td>6300</td>\n",
       "    </tr>\n",
       "    <tr>\n",
       "      <th>596</th>\n",
       "      <td>2024-12-22</td>\n",
       "      <td>WH004</td>\n",
       "      <td>Item012</td>\n",
       "      <td>9300</td>\n",
       "    </tr>\n",
       "    <tr>\n",
       "      <th>597</th>\n",
       "      <td>2024-12-22</td>\n",
       "      <td>WH004</td>\n",
       "      <td>Item013</td>\n",
       "      <td>4600</td>\n",
       "    </tr>\n",
       "    <tr>\n",
       "      <th>598</th>\n",
       "      <td>2024-12-22</td>\n",
       "      <td>WH004</td>\n",
       "      <td>Item014</td>\n",
       "      <td>4900</td>\n",
       "    </tr>\n",
       "    <tr>\n",
       "      <th>599</th>\n",
       "      <td>2024-12-22</td>\n",
       "      <td>WH004</td>\n",
       "      <td>Item015</td>\n",
       "      <td>4700</td>\n",
       "    </tr>\n",
       "  </tbody>\n",
       "</table>\n",
       "<p>600 rows × 4 columns</p>\n",
       "</div>"
      ]
     },
     "execution_count": 3,
     "metadata": {},
     "output_type": "execute_result"
    }
   ],
   "execution_count": 3
  },
  {
   "metadata": {
    "ExecuteTime": {
     "end_time": "2025-03-16T13:02:48.566046Z",
     "start_time": "2025-03-16T13:02:48.562856Z"
    }
   },
   "cell_type": "code",
   "source": [
    "import os\n",
    "\n",
    "# Ensure the target directory exists before saving the file\n",
    "os.makedirs(\"../Datasets\", exist_ok=True)\n",
    "\n",
    "# Save DataFrame as CSV into existing directory\n",
    "df.to_csv(\"../Datasets/Available_Stock.csv\", index=False)\n"
   ],
   "id": "f8d4a36102515e15",
   "outputs": [],
   "execution_count": 4
  }
 ],
 "metadata": {
  "kernelspec": {
   "display_name": "Python 3",
   "language": "python",
   "name": "python3"
  },
  "language_info": {
   "codemirror_mode": {
    "name": "ipython",
    "version": 2
   },
   "file_extension": ".py",
   "mimetype": "text/x-python",
   "name": "python",
   "nbconvert_exporter": "python",
   "pygments_lexer": "ipython2",
   "version": "2.7.6"
  }
 },
 "nbformat": 4,
 "nbformat_minor": 5
}
